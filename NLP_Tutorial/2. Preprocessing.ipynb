{
 "cells": [
  {
   "cell_type": "markdown",
   "metadata": {},
   "source": [
    "1. 자연어 처리란?\n",
    "\n",
    "### 2. NLP Preprocessing <<<\n",
    "\n",
    "\n",
    "3. Vectorization\n",
    "\n",
    "\n",
    "4. Embedding\n",
    "\n",
    "\n",
    "5. Modeling\n",
    "****"
   ]
  },
  {
   "cell_type": "markdown",
   "metadata": {},
   "source": [
    "# NLP Preprocessing란?\n",
    "\n",
    "- **NLP 전처리는 정해진 답이 없으며 '데이터'와 '목적'에 따라** 달라집니다.\n",
    "- 이 과정은 주로 **모델의 입력인 단어, 문장, 문서의 vector를 만들기 전에 진행**이 된다.\n",
    "\n",
    "<일반적인 NLP 전처리의 과정>\n",
    "\n",
    "\n",
    "1. 데이터를 불러온 후 각 신문기사들을 눈으로 확인하며 특수문자, 불용어 그리고 문장 구조에 대한 감을 잡습니다. <img src=\"https://encrypted-tbn0.gstatic.com/images?q=tbn:ANd9GcRB6c5FLCKLBrhqCWAUMuw8wx_YCyoVal5Sgw&usqp=CAU\" width=\"20\">\n",
    "\n",
    "\n",
    "2. 문제의 목적과 분석자의 재량에 따라 불용어를 설정하고 리스트에 저장합니다. 이번 대회에서는 **특수 문자**와 **조사**만 제거해도 어느 정도 높은 정확도를 얻을 수 있습니다. <img src=\"https://encrypted-tbn0.gstatic.com/images?q=tbn:ANd9GcRB6c5FLCKLBrhqCWAUMuw8wx_YCyoVal5Sgw&usqp=CAU\" width=\"20\">\n",
    "\n",
    "\n",
    "3. 불용어 이외의 특수 문자들을 제거합니다. 이번 대회를 위해 저는 정규표현식 패키지(re)를 사용하여 **한글과 영어 소문자를 제외한 모든 글자들을 제거**하였습니다. <img src=\"https://encrypted-tbn0.gstatic.com/images?q=tbn:ANd9GcRB6c5FLCKLBrhqCWAUMuw8wx_YCyoVal5Sgw&usqp=CAU\" width=\"20\">\n",
    "\n",
    "\n",
    "4. 형태소 분석을 통해 문장을 형태소 단위의 토큰으로 분리합니다. 이때 **내가 설정한 불용어들을 결과로 반환해주는 형태소 분석기를 사용하셔야** 합니다. 예를 들어 조사를 불용어로 설정하였는데 조사를 분리해주지 못하는 형태소 분석기는 후보에서 제외하시면 됩니다. <img src=\"https://encrypted-tbn0.gstatic.com/images?q=tbn:ANd9GcRB6c5FLCKLBrhqCWAUMuw8wx_YCyoVal5Sgw&usqp=CAU\" width=\"20\">\n",
    "\n",
    "\n",
    "5. 형태소 단위의 토큰들을 기반으로 리스트에 저장된 불용어를 제거합니다.\n",
    "****"
   ]
  },
  {
   "cell_type": "markdown",
   "metadata": {},
   "source": [
    "## 1. 형태소 분석(Stemming)\n",
    "\n",
    "- **형태소 분석** : 단어나 문장의 언어적 속성을 파악하는 것. 보통 품사의 태깅(PoS)을 통해 이루어지며 한국어 형태소 분석을 위해 Konlpy 패키지에 있는 다양한 함수를 이용하여 진행 할 수 있다.\n",
    "\n",
    "\n",
    "- **형태소 분석을 하는 이유** : 주로 **형태소 단위로 의미있는 단어**를 가져가고 싶거나 품사 태깅을 통해 **형용사나 명사를 추출**하고 싶을 때 많이 이용한다.\n",
    "<img src='data:image/png;base64,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' width=\"500\">\n",
    "\n",
    "\n",
    "- 문장을 띄어쓰기 단위로만 분류하여 vectorization을 하게 되면 \"데이콘\"이라는 같은 의미의 토큰 세개('데이콘이', '데이콘은', '데이콘을')가 **서로 다른 vector를 갖게 됩니다.** 이렇게 되면 모델이 세 단어를 각각 다른 언어로 이해합니다. 하지만 **형태소 분석**을 통해 '데이콘'이라는 **토큰을 추출한다면 앞의 세 단어는 동일한 vector를 갖게되며 모델이 해당 토큰을 더 잘 학습하는 데 도움이 됩니다.**\n",
    "\n",
    "\n",
    "- **형태소 분석은 어쩌면 모델링보다 성능에 더 중요한 영향을 미치는 아주 중요한 과정**입니다. 따라서 다양한 형태소 분석기를 사용하여 결과를 비교하는 것을 추천드립니다."
   ]
  },
  {
   "cell_type": "code",
   "execution_count": 1,
   "metadata": {
    "scrolled": true
   },
   "outputs": [
    {
     "name": "stdout",
     "output_type": "stream",
     "text": [
      "Requirement already satisfied: konlpy in c:\\users\\user\\anaconda3\\lib\\site-packages (0.5.2)\n",
      "Requirement already satisfied: tweepy>=3.7.0 in c:\\users\\user\\anaconda3\\lib\\site-packages (from konlpy) (3.8.0)\n",
      "Requirement already satisfied: numpy>=1.6 in c:\\users\\user\\anaconda3\\lib\\site-packages (from konlpy) (1.18.5)\n",
      "Requirement already satisfied: lxml>=4.1.0 in c:\\users\\user\\anaconda3\\lib\\site-packages (from konlpy) (4.5.2)\n",
      "Requirement already satisfied: JPype1>=0.7.0 in c:\\users\\user\\anaconda3\\lib\\site-packages (from konlpy) (0.7.5)\n",
      "Requirement already satisfied: colorama in c:\\users\\user\\anaconda3\\lib\\site-packages (from konlpy) (0.4.3)\n",
      "Requirement already satisfied: beautifulsoup4==4.6.0 in c:\\users\\user\\anaconda3\\lib\\site-packages (from konlpy) (4.6.0)\n",
      "Requirement already satisfied: six>=1.10.0 in c:\\users\\user\\anaconda3\\lib\\site-packages (from tweepy>=3.7.0->konlpy) (1.15.0)\n",
      "Requirement already satisfied: requests-oauthlib>=0.7.0 in c:\\users\\user\\anaconda3\\lib\\site-packages (from tweepy>=3.7.0->konlpy) (1.3.0)\n",
      "Requirement already satisfied: PySocks>=1.5.7 in c:\\users\\user\\anaconda3\\lib\\site-packages (from tweepy>=3.7.0->konlpy) (1.7.1)\n",
      "Requirement already satisfied: requests>=2.11.1 in c:\\users\\user\\anaconda3\\lib\\site-packages (from tweepy>=3.7.0->konlpy) (2.24.0)\n",
      "Requirement already satisfied: oauthlib>=3.0.0 in c:\\users\\user\\anaconda3\\lib\\site-packages (from requests-oauthlib>=0.7.0->tweepy>=3.7.0->konlpy) (3.1.0)\n",
      "Requirement already satisfied: idna<3,>=2.5 in c:\\users\\user\\anaconda3\\lib\\site-packages (from requests>=2.11.1->tweepy>=3.7.0->konlpy) (2.10)\n",
      "Requirement already satisfied: chardet<4,>=3.0.2 in c:\\users\\user\\anaconda3\\lib\\site-packages (from requests>=2.11.1->tweepy>=3.7.0->konlpy) (3.0.4)\n",
      "Requirement already satisfied: urllib3!=1.25.0,!=1.25.1,<1.26,>=1.21.1 in c:\\users\\user\\anaconda3\\lib\\site-packages (from requests>=2.11.1->tweepy>=3.7.0->konlpy) (1.25.9)\n",
      "Requirement already satisfied: certifi>=2017.4.17 in c:\\users\\user\\anaconda3\\lib\\site-packages (from requests>=2.11.1->tweepy>=3.7.0->konlpy) (2020.6.20)\n"
     ]
    }
   ],
   "source": [
    "! pip install konlpy"
   ]
  },
  {
   "cell_type": "code",
   "execution_count": 2,
   "metadata": {
    "scrolled": true
   },
   "outputs": [
    {
     "data": {
      "text/plain": [
       "'0.5.2'"
      ]
     },
     "execution_count": 2,
     "metadata": {},
     "output_type": "execute_result"
    }
   ],
   "source": [
    "import konlpy\n",
    "konlpy.__version__"
   ]
  },
  {
   "cell_type": "markdown",
   "metadata": {},
   "source": [
    "#### 1-1. Kkma()"
   ]
  },
  {
   "cell_type": "code",
   "execution_count": 3,
   "metadata": {
    "scrolled": true
   },
   "outputs": [
    {
     "name": "stdout",
     "output_type": "stream",
     "text": [
      "형태소 단위로 문장 분리\n",
      "-----------------------\n",
      "['데이', '콘', '에서', '다양', '하', 'ㄴ', '컴피티션', '을', '즐기', '면서', '실력', '있', '는', '데이터', '분석가', '로', '성장', '하', '세요', '!!', '.']\n",
      " \n",
      "문장에서 명사 추출\n",
      "-----------------------\n",
      "['데이', '데이콘', '콘', '다양', '컴피티션', '실력', '데이터', '분석가', '성장']\n",
      " \n",
      "품사 태깅(PoS)\n",
      "-----------------------\n",
      "[('데이', 'NNG'), ('콘', 'NNG'), ('에서', 'JKM'), ('다양', 'NNG'), ('하', 'XSV'), ('ㄴ', 'ETD'), ('컴피티션', 'UN'), ('을', 'JKO'), ('즐기', 'VV'), ('면서', 'ECE'), ('실력', 'NNG'), ('있', 'VV'), ('는', 'ETD'), ('데이터', 'NNG'), ('분석가', 'NNG'), ('로', 'JKM'), ('성장', 'NNG'), ('하', 'XSV'), ('세요', 'EFN'), ('!!', 'SW'), ('.', 'SF')]\n"
     ]
    }
   ],
   "source": [
    "# 11.542초\n",
    "from konlpy.tag import Kkma\n",
    "kkma = Kkma()\n",
    "\n",
    "sentence = '데이콘에서 다양한 컴피티션을 즐기면서 실력있는 데이터 분석가로 성장하세요!!.'\n",
    "\n",
    "print(\"형태소 단위로 문장 분리\")\n",
    "print(\"-----------------------\")\n",
    "print(kkma.morphs(sentence))\n",
    "print(\" \")\n",
    "print(\"문장에서 명사 추출\")\n",
    "print(\"-----------------------\")\n",
    "print(kkma.nouns(sentence))\n",
    "print(\" \")\n",
    "print(\"품사 태깅(PoS)\")\n",
    "print(\"-----------------------\")\n",
    "print(kkma.pos(sentence))"
   ]
  },
  {
   "cell_type": "markdown",
   "metadata": {},
   "source": [
    "#### 1-2. Okt()"
   ]
  },
  {
   "cell_type": "code",
   "execution_count": 4,
   "metadata": {
    "scrolled": false
   },
   "outputs": [
    {
     "name": "stdout",
     "output_type": "stream",
     "text": [
      "형태소 단위로 문장 분리\n",
      "-----------------------\n",
      "['데', '이콘', '에서', '다양한', '컴피티션', '을', '즐기면서', '실력', '있는', '데이터', '분석', '가로', '성장하세요', '!!.']\n",
      " \n",
      "문장에서 명사 추출\n",
      "-----------------------\n",
      "['데', '이콘', '컴피티션', '실력', '데이터', '분석', '가로']\n",
      " \n",
      "품사 태깅(PoS)\n",
      "-----------------------\n",
      "[('데', 'Noun'), ('이콘', 'Noun'), ('에서', 'Josa'), ('다양한', 'Adjective'), ('컴피티션', 'Noun'), ('을', 'Josa'), ('즐기면서', 'Verb'), ('실력', 'Noun'), ('있는', 'Adjective'), ('데이터', 'Noun'), ('분석', 'Noun'), ('가로', 'Noun'), ('성장하세요', 'Adjective'), ('!!.', 'Punctuation')]\n"
     ]
    }
   ],
   "source": [
    "# 9.816초\n",
    "from konlpy.tag import Okt\n",
    "Okt = Okt()\n",
    "\n",
    "sentence = '데이콘에서 다양한 컴피티션을 즐기면서 실력있는 데이터 분석가로 성장하세요!!.'\n",
    "\n",
    "print(\"형태소 단위로 문장 분리\")\n",
    "print(\"-----------------------\")\n",
    "print(Okt.morphs(sentence))\n",
    "print(\" \")\n",
    "print(\"문장에서 명사 추출\")\n",
    "print(\"-----------------------\")\n",
    "print(Okt.nouns(sentence))\n",
    "print(\" \")\n",
    "print(\"품사 태깅(PoS)\")\n",
    "print(\"-----------------------\")\n",
    "print(Okt.pos(sentence))"
   ]
  },
  {
   "cell_type": "markdown",
   "metadata": {},
   "source": [
    "#### 1-3. Mecab()"
   ]
  },
  {
   "cell_type": "code",
   "execution_count": 5,
   "metadata": {},
   "outputs": [],
   "source": [
    "# window에서 실행하려면 방법 찾아야 함.\n",
    "from konlpy.tag import Mecab\n",
    "Mecab = Mecab()\n",
    "\n",
    "sentence = '데이콘에서 다양한 컴피티션을 즐기면서 실력있는 데이터 분석가로 성장하세요!!.'\n",
    "\n",
    "print(\"형태소 단위로 문장 분리\")\n",
    "print(\"----------------------\")\n",
    "print(Mecab .morphs(sentence))\n",
    "print(\" \")\n",
    "print(\"문장에서 명사 추출\")\n",
    "print(\"----------------------\")\n",
    "print(Mecab .nouns(sentence))\n",
    "print(\" \")\n",
    "print(\"품사 태깅(PoS)\")\n",
    "print(\"----------------------\")\n",
    "print(Mecab .pos(sentence))"
   ]
  },
  {
   "cell_type": "markdown",
   "metadata": {},
   "source": [
    "#### 1-4. Komoran()"
   ]
  },
  {
   "cell_type": "code",
   "execution_count": 6,
   "metadata": {
    "scrolled": true
   },
   "outputs": [
    {
     "name": "stdout",
     "output_type": "stream",
     "text": [
      "형태소 단위로 문장 분리\n",
      "-----------------------\n",
      "['데', '이콘', '에서', '다양', '하', 'ㄴ', '컴', '피', '티', '션', '을', '즐기', '면서', '실력', '있', '는', '데이터', '분석가', '로', '성장', '하', '시', '어요', '!', '!', '.']\n",
      " \n",
      "문장에서 명사 추출\n",
      "-----------------------\n",
      "['데', '이콘', '컴', '피', '티', '션', '실력', '데이터', '분석가', '성장']\n",
      " \n",
      "품사 태깅(PoS)\n",
      "-----------------------\n",
      "[('데', 'NNB'), ('이콘', 'NNP'), ('에서', 'JKB'), ('다양', 'XR'), ('하', 'XSA'), ('ㄴ', 'ETM'), ('컴', 'NNG'), ('피', 'NNG'), ('티', 'NNG'), ('션', 'NNG'), ('을', 'JKO'), ('즐기', 'VV'), ('면서', 'EC'), ('실력', 'NNG'), ('있', 'VV'), ('는', 'ETM'), ('데이터', 'NNG'), ('분석가', 'NNG'), ('로', 'JKB'), ('성장', 'NNG'), ('하', 'XSV'), ('시', 'EP'), ('어요', 'EF'), ('!', 'SF'), ('!', 'SF'), ('.', 'SF')]\n"
     ]
    }
   ],
   "source": [
    "from konlpy.tag import Komoran\n",
    "Komoran = Komoran()\n",
    "\n",
    "sentence = '데이콘에서 다양한 컴피티션을 즐기면서 실력있는 데이터 분석가로 성장하세요!!.'\n",
    "\n",
    "print(\"형태소 단위로 문장 분리\")\n",
    "print(\"-----------------------\")\n",
    "print(Komoran.morphs(sentence))\n",
    "print(\" \")\n",
    "print(\"문장에서 명사 추출\")\n",
    "print(\"-----------------------\")\n",
    "print(Komoran.nouns(sentence))\n",
    "print(\" \")\n",
    "print(\"품사 태깅(PoS)\")\n",
    "print(\"-----------------------\")\n",
    "print(Komoran.pos(sentence))"
   ]
  },
  {
   "cell_type": "markdown",
   "metadata": {},
   "source": [
    "이 외에도 Twitter, Hannanum 등의 형태소 분석기(Pos Tagger)들이 존재합니다. 속도와 정확도 면에서 차이가 있으며 주로 Mecab 분석기를 이용합니다. \n",
    "\n",
    "**<형태소 분석기 성능 비교>**\n",
    "- Mecab : 굉장히 속도가 빠르면서도 좋은 분석 결과를 보여준다.\n",
    "- Komoran : 댓글롸 같이 정제되지 않은 글에 대해서 먼저 사용해보면 좋다.(오탈자를 어느정도 고려해준다.)\n",
    "- Kkma : 분석 시간이 오래걸리기 때문에 잘 이용하지 않게 된다.\n",
    "- Okt : 품사 태깅 결과를 Noun, Verb등 알아보기 쉽게 반환해준다.\n",
    "- Khaiii: 카카오에서 가장 최근데 공개한 분석기, 성능이 좋다고 알려져 있으며 다양한 실험이 필요하다.\n",
    "****"
   ]
  },
  {
   "cell_type": "markdown",
   "metadata": {},
   "source": [
    "## 2. 표제어 추출(Lemmatization)\n",
    "\n",
    "- Lemmatization과 Stemming은 큰 차이가 없습니다. 모두 단어의 본 모습을 찾아주는 과정으로서 Konlpy에서 공개한 형태소 분석기들을 이용하면 어느 정도 **어간 추출**이 가능합니다. 형태소 분석(Pos Tagging)을 stemming이라고 표기한 이유도 이와 같습니다."
   ]
  },
  {
   "cell_type": "code",
   "execution_count": 8,
   "metadata": {},
   "outputs": [
    {
     "name": "stdout",
     "output_type": "stream",
     "text": [
      "품사 태깅(PoS)\n",
      "----------------------\n",
      "[('성장', 'NNG'), ('하', 'XSV'), ('었', 'EPT'), ('었', 'EPT'), ('다', 'EFN'), ('.', 'SF')]\n"
     ]
    }
   ],
   "source": [
    "from konlpy.tag import Kkma\n",
    "kkma = Kkma()\n",
    "\n",
    "sentence = '성장했었다.'\n",
    "print(\"품사 태깅(PoS)\")\n",
    "print(\"----------------------\")\n",
    "print(kkma.pos(sentence))"
   ]
  },
  {
   "cell_type": "code",
   "execution_count": 9,
   "metadata": {
    "scrolled": false
   },
   "outputs": [
    {
     "name": "stdout",
     "output_type": "stream",
     "text": [
      "품사 태깅(PoS)\n",
      "----------------------\n",
      "[('성장', 'NNG'), ('하', 'XSV'), ('였', 'EPT'), ('었', 'EPT'), ('다', 'EFN'), ('.', 'SF')]\n"
     ]
    }
   ],
   "source": [
    "sentence = '성장하였었다.'\n",
    "\n",
    "print(\"품사 태깅(PoS)\")\n",
    "print(\"----------------------\")\n",
    "print(kkma.pos(sentence))"
   ]
  },
  {
   "cell_type": "markdown",
   "metadata": {},
   "source": [
    "****"
   ]
  },
  {
   "cell_type": "markdown",
   "metadata": {},
   "source": [
    "## 3. 불용어 제거(Stopwords removing)\n",
    "\n",
    "- **불용어** : *문장에서 큰 의미가 없다고 생각되는 단어, 글자들*. 불용어는 데이터와 문제에 따라 유동적이다.  \n",
    "\n",
    "    예시 : \"이번에 새롭게 개봉한 영화의 배우들은 모두 훌륭한 연기력과 아름다운 목소리를 갖고 있어!!\"\n",
    "    \n",
    "\n",
    "- 예시 문장에서 감성분석을 진행할 때는 **\"훌륭한\"**과 **\"아름다운\"**등이 주요 특징으로 사용될 것이다. 하지만 경우에 따라 이러한 형용사들을 제외한 **배우들의 연기력과 목소리**라는 정보에 집중해야 할 때가 있다. 이럴 때는 **\"훌륭한\"**과 **\"아름다움\"**은 **불용어로 정의**될 수 있다."
   ]
  },
  {
   "cell_type": "code",
   "execution_count": 12,
   "metadata": {},
   "outputs": [],
   "source": [
    "# 1. 영어 소문자와 한글을 제외한 모든 문자를 제거\n",
    "# 2. Okt를 이용해 형태소 분석\n",
    "# 3. 형태소 분석기를 거쳐 나온 결과들 중 stopwords 리스트에 포함되지 않는 토큰만 token이라는 리스트에 반환\n",
    "\n",
    "from konlpy.tag import Okt\n",
    "import re\n",
    "tokenizer = Okt()\n",
    "\n",
    "def text_preprocessing(text, tokenizer):\n",
    "    \n",
    "    stopwords = ['을', '를', '이', '가', '은', '는']\n",
    "    \n",
    "    text = re.sub('[^가-힣 a-z]', ' ', text)\n",
    "    token = tokenizer.morphs(text)\n",
    "    token = [t for t in token if t not in stopwords]\n",
    "    \n",
    "    return token\n",
    "\n",
    "ex_text = \"이번에 새롭게 개봉한 영화의 배우들은 모두 훌륭한 연기력과 아름다운 목소리를 갖고 있어!!\"\n",
    "example_pre = text_preprocessing(ex_text, tokenizer)"
   ]
  },
  {
   "cell_type": "code",
   "execution_count": 13,
   "metadata": {
    "scrolled": true
   },
   "outputs": [
    {
     "name": "stdout",
     "output_type": "stream",
     "text": [
      "['이번', '에', '새롭게', '개봉', '한', '영화', '의', '배우', '들', '모두', '훌륭한', '연기력', '과', '아름다운', '목소리', '갖고', '있어']\n"
     ]
    }
   ],
   "source": [
    "print(example_pre)"
   ]
  },
  {
   "cell_type": "markdown",
   "metadata": {},
   "source": [
    "## 4. 대회 적용"
   ]
  },
  {
   "cell_type": "code",
   "execution_count": 20,
   "metadata": {},
   "outputs": [],
   "source": [
    "import pandas as pd\n",
    "\n",
    "train = pd.read_csv('news_train.csv')\n",
    "\n",
    "def text_preprocessing(text_list):\n",
    "    stopwords = ['을', '를', '이', '가', '은', '는', 'null']  # 불용어 설정\n",
    "    tokenizer = Okt()   # 형태소 분석기\n",
    "    token_list = []\n",
    "    \n",
    "    for text in text_list:\n",
    "        txt = re.sub('[^가-힣 a-z]', ' ', text)  # 한글과 영어 소문자만 남기고 다른 글자 모두 제거\n",
    "        token = tokenizer.morphs(txt)            # 형태소 분석\n",
    "        token = [t for t in token if t not in stopwords or type(t) != float]  # 형태소 분석 결과 중 stopwords에 해당하지 않는 것만 추출\n",
    "        token_list.append(token)\n",
    "        \n",
    "    return token_list, tokenizer\n",
    "\n",
    "# 형태소 분석기를 따로 저장한 이유는 후에 test 데이터 전처리를 진행할 때 이용해야 되기 때문\n",
    "train['new_article'], okt = text_preprocessing(train['content'])"
   ]
  },
  {
   "cell_type": "code",
   "execution_count": 22,
   "metadata": {},
   "outputs": [
    {
     "data": {
      "text/html": [
       "<div>\n",
       "<style scoped>\n",
       "    .dataframe tbody tr th:only-of-type {\n",
       "        vertical-align: middle;\n",
       "    }\n",
       "\n",
       "    .dataframe tbody tr th {\n",
       "        vertical-align: top;\n",
       "    }\n",
       "\n",
       "    .dataframe thead th {\n",
       "        text-align: right;\n",
       "    }\n",
       "</style>\n",
       "<table border=\"1\" class=\"dataframe\">\n",
       "  <thead>\n",
       "    <tr style=\"text-align: right;\">\n",
       "      <th></th>\n",
       "      <th>n_id</th>\n",
       "      <th>date</th>\n",
       "      <th>title</th>\n",
       "      <th>content</th>\n",
       "      <th>ord</th>\n",
       "      <th>info</th>\n",
       "      <th>new_article</th>\n",
       "    </tr>\n",
       "  </thead>\n",
       "  <tbody>\n",
       "    <tr>\n",
       "      <th>0</th>\n",
       "      <td>NEWS02580</td>\n",
       "      <td>20200605</td>\n",
       "      <td>[마감]코스닥 기관 678억 순매도</td>\n",
       "      <td>[이데일리 MARKETPOINT]15:32 현재 코스닥 기관 678억 순매도</td>\n",
       "      <td>1</td>\n",
       "      <td>0</td>\n",
       "      <td>[이데일리, 현재, 코스닥, 기관, 억, 순, 매도]</td>\n",
       "    </tr>\n",
       "    <tr>\n",
       "      <th>1</th>\n",
       "      <td>NEWS02580</td>\n",
       "      <td>20200605</td>\n",
       "      <td>[마감]코스닥 기관 678억 순매도</td>\n",
       "      <td>\"실적기반\" 저가에 매집해야 할 8월 급등유망주 TOP 5 전격공개</td>\n",
       "      <td>2</td>\n",
       "      <td>1</td>\n",
       "      <td>[실적, 기반, 저가, 에, 매집, 해야, 할, 월, 급등, 유망, 주, 전격, 공개]</td>\n",
       "    </tr>\n",
       "    <tr>\n",
       "      <th>2</th>\n",
       "      <td>NEWS02580</td>\n",
       "      <td>20200605</td>\n",
       "      <td>[마감]코스닥 기관 678억 순매도</td>\n",
       "      <td>하이스탁론, 선취수수료 없는 월 0.4% 최저금리 상품 출시</td>\n",
       "      <td>3</td>\n",
       "      <td>1</td>\n",
       "      <td>[하, 이스, 탁론, 선취, 수수료, 없는, 월, 최저, 금리, 상품, 출시]</td>\n",
       "    </tr>\n",
       "    <tr>\n",
       "      <th>3</th>\n",
       "      <td>NEWS02580</td>\n",
       "      <td>20200605</td>\n",
       "      <td>[마감]코스닥 기관 678억 순매도</td>\n",
       "      <td>종합 경제정보 미디어 이데일리 - 무단전재 &amp; 재배포 금지</td>\n",
       "      <td>4</td>\n",
       "      <td>0</td>\n",
       "      <td>[종합, 경제, 정보, 미디어, 이데일리, 무단, 전, 재, 재, 배포, 금지]</td>\n",
       "    </tr>\n",
       "    <tr>\n",
       "      <th>4</th>\n",
       "      <td>NEWS09727</td>\n",
       "      <td>20200626</td>\n",
       "      <td>롯데·공영 등 7개 TV 홈쇼핑들, 동행세일 동참</td>\n",
       "      <td>전국적인 소비 붐 조성에 기여할 예정</td>\n",
       "      <td>1</td>\n",
       "      <td>0</td>\n",
       "      <td>[전국, 적, 인, 소비, 붐, 조성, 에, 기여, 할, 예정]</td>\n",
       "    </tr>\n",
       "  </tbody>\n",
       "</table>\n",
       "</div>"
      ],
      "text/plain": [
       "        n_id      date                        title  \\\n",
       "0  NEWS02580  20200605          [마감]코스닥 기관 678억 순매도   \n",
       "1  NEWS02580  20200605          [마감]코스닥 기관 678억 순매도   \n",
       "2  NEWS02580  20200605          [마감]코스닥 기관 678억 순매도   \n",
       "3  NEWS02580  20200605          [마감]코스닥 기관 678억 순매도   \n",
       "4  NEWS09727  20200626  롯데·공영 등 7개 TV 홈쇼핑들, 동행세일 동참   \n",
       "\n",
       "                                      content  ord  info  \\\n",
       "0  [이데일리 MARKETPOINT]15:32 현재 코스닥 기관 678억 순매도    1     0   \n",
       "1       \"실적기반\" 저가에 매집해야 할 8월 급등유망주 TOP 5 전격공개    2     1   \n",
       "2           하이스탁론, 선취수수료 없는 월 0.4% 최저금리 상품 출시    3     1   \n",
       "3            종합 경제정보 미디어 이데일리 - 무단전재 & 재배포 금지    4     0   \n",
       "4                        전국적인 소비 붐 조성에 기여할 예정    1     0   \n",
       "\n",
       "                                        new_article  \n",
       "0                     [이데일리, 현재, 코스닥, 기관, 억, 순, 매도]  \n",
       "1  [실적, 기반, 저가, 에, 매집, 해야, 할, 월, 급등, 유망, 주, 전격, 공개]  \n",
       "2       [하, 이스, 탁론, 선취, 수수료, 없는, 월, 최저, 금리, 상품, 출시]  \n",
       "3      [종합, 경제, 정보, 미디어, 이데일리, 무단, 전, 재, 재, 배포, 금지]  \n",
       "4               [전국, 적, 인, 소비, 붐, 조성, 에, 기여, 할, 예정]  "
      ]
     },
     "execution_count": 22,
     "metadata": {},
     "output_type": "execute_result"
    }
   ],
   "source": [
    "train.head()"
   ]
  },
  {
   "cell_type": "code",
   "execution_count": 21,
   "metadata": {},
   "outputs": [],
   "source": [
    "train.to_csv('news_train_preprocessing_kani_1226.csv')"
   ]
  },
  {
   "cell_type": "markdown",
   "metadata": {},
   "source": [
    "이제 분리한 토큰을 기반으로 모델의 입력인 vectorization을 진행할 차례군요!!\n",
    "\n",
    "## To be continued......"
   ]
  }
 ],
 "metadata": {
  "kernelspec": {
   "display_name": "Python 3",
   "language": "python",
   "name": "python3"
  },
  "language_info": {
   "codemirror_mode": {
    "name": "ipython",
    "version": 3
   },
   "file_extension": ".py",
   "mimetype": "text/x-python",
   "name": "python",
   "nbconvert_exporter": "python",
   "pygments_lexer": "ipython3",
   "version": "3.7.6"
  }
 },
 "nbformat": 4,
 "nbformat_minor": 4
}
